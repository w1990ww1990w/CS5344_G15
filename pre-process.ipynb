{
 "cells": [
  {
   "cell_type": "code",
   "execution_count": 1,
   "metadata": {},
   "outputs": [],
   "source": [
    "import pandas as pd\n",
    "import re\n",
    "import os\n",
    "import math"
   ]
  },
  {
   "cell_type": "code",
   "execution_count": 5,
   "metadata": {},
   "outputs": [
    {
     "name": "stdout",
     "output_type": "stream",
     "text": [
      "finish processing Questions.csv\n"
     ]
    }
   ],
   "source": [
    "questionOriginalFile = pd.read_csv(\"_Questions.csv\",encoding=\"latin-1\", iterator = True, chunksize=100)\n",
    "hasHeader = True\n",
    "\n",
    "os.remove(\"Questions.csv\")\n",
    "for chunk in questionOriginalFile:\n",
    "    chunk[\"OwnerUserId\"] = chunk[\"OwnerUserId\"].map(lambda ownerUserId: 0 if math.isnan(ownerUserId) else int(ownerUserId))\n",
    "    chunk[\"Body\"] = chunk[\"Body\"].map(lambda body: body.replace(\"\\n\", \" \"))\n",
    "    chunk[\"Body\"] = chunk[\"Body\"].map(lambda body: body.replace(\"\\r\", \" \"))\n",
    "    chunk[\"Body\"] = chunk[\"Body\"].map(lambda body: body.replace(\",\", \";\"))\n",
    "    chunk[\"Title\"] = chunk[\"Title\"].map(lambda body: body.replace(\",\", \";\"))\n",
    "    chunk[\"Code\"] = chunk[\"Body\"].map(lambda body: True if re.search(\"<code>\", body) else False)\n",
    "    \n",
    "    if hasHeader:\n",
    "        chunk.to_csv(\"Questions.csv\", mode = \"a\", encoding = \"utf-8\", header = hasHeader, index = False)\n",
    "        hasHeader = False\n",
    "    else:\n",
    "        chunk.to_csv(\"Questions.csv\", mode = \"a\", encoding = \"utf-8\", header = hasHeader, index = False)\n",
    "\n",
    "print(\"finish processing Questions.csv\")"
   ]
  },
  {
   "cell_type": "code",
   "execution_count": 4,
   "metadata": {},
   "outputs": [
    {
     "name": "stdout",
     "output_type": "stream",
     "text": [
      "finish processing Answers.csv\n"
     ]
    }
   ],
   "source": [
    "questionOriginalFile = pd.read_csv(\"_Answers.csv\",encoding=\"latin-1\", iterator = True, chunksize=100)\n",
    "hasHeader = True\n",
    "\n",
    "os.remove(\"Answers.csv\")\n",
    "for chunk in questionOriginalFile:\n",
    "    chunk[\"OwnerUserId\"] = chunk[\"OwnerUserId\"].map(lambda ownerUserId: 0 if math.isnan(ownerUserId) else int(ownerUserId))\n",
    "    chunk[\"Body\"] = chunk[\"Body\"].map(lambda body: body.replace(\"\\n\", \" \"))\n",
    "    chunk[\"Body\"] = chunk[\"Body\"].map(lambda body: body.replace(\"\\r\", \" \"))\n",
    "    chunk[\"Body\"] = chunk[\"Body\"].map(lambda body: body.replace(\",\", \";\"))\n",
    "    chunk[\"Code\"] = chunk[\"Body\"].map(lambda body: True if re.search(\"<code>\", body) else False)\n",
    "    \n",
    "    if hasHeader:\n",
    "        chunk.to_csv(\"Answers.csv\", mode = \"a\", encoding = \"utf-8\", header = hasHeader, index = False)\n",
    "        hasHeader = False\n",
    "    else:\n",
    "        chunk.to_csv(\"Answers.csv\", mode = \"a\", encoding = \"utf-8\", header = hasHeader, index = False)\n",
    "    \n",
    "print(\"finish processing Answers.csv\")"
   ]
  },
  {
   "cell_type": "code",
   "execution_count": null,
   "metadata": {},
   "outputs": [],
   "source": []
  }
 ],
 "metadata": {
  "kernelspec": {
   "display_name": "Python 3",
   "language": "python",
   "name": "python3"
  },
  "language_info": {
   "codemirror_mode": {
    "name": "ipython",
    "version": 3
   },
   "file_extension": ".py",
   "mimetype": "text/x-python",
   "name": "python",
   "nbconvert_exporter": "python",
   "pygments_lexer": "ipython3",
   "version": "3.6.3"
  }
 },
 "nbformat": 4,
 "nbformat_minor": 2
}
