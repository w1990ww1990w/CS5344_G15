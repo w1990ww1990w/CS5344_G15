{
 "cells": [
  {
   "cell_type": "code",
   "execution_count": 138,
   "metadata": {},
   "outputs": [],
   "source": [
    "from pyspark import SparkContext, SparkConf\n",
    "import pandas as pd\n",
    "import re\n",
    "from operator import add\n",
    "import numpy as np"
   ]
  },
  {
   "cell_type": "code",
   "execution_count": null,
   "metadata": {
    "collapsed": true
   },
   "outputs": [],
   "source": [
    "import os\n",
    "data1 = pd.read_csv(\"_Answers.csv\",encoding=\"latin-1\", iterator = True, chunksize=100)\n",
    "# print(data1)\n",
    "# data1.apply(lambda row: row.replace(\"\\n\", \" \"))\n",
    "# data1.to_csv(\"aaa.csv\",encoding='utf-8')\n",
    "# print(data1.iloc[0])\n",
    "hasHeader = False\n",
    "os.remove(\"aaa.csv\")\n",
    "for chunk in data1:\n",
    "    #print(chunk)\n",
    "    chunk[\"Body\"] = chunk[\"Body\"].map(lambda body: body.replace(\"\\n\", \" \"))\n",
    "    chunk[\"Body\"] = chunk[\"Body\"].map(lambda body: body.replace(\",\", \";\"))\n",
    "    #chunk[\"Title\"] = chunk[\"Title\"].map(lambda body: body.replace(\",\", \";\"))\n",
    "    #print(chunk)\n",
    "    #print(chunk[\"Body\"])\n",
    "    if hasHeader:\n",
    "        chunk.to_csv(\"aaa.csv\", mode = \"a\", encoding=\"utf-8\", header=False, index = False)\n",
    "    else:\n",
    "        chunk.to_csv(\"aaa.csv\", mode = \"a\", encoding=\"utf-8\", header=True, index = False)\n",
    "\n",
    "    #break\n",
    "#     print(type(chunk))\n",
    "#     for index, row in chunk.iterrows():\n",
    "#         print(row)\n",
    "#         print(row[\"Body\"])\n",
    "#         chunk.iloc[index][\"Body\"] = chunk.iloc[index][\"Body\"].replace(\"\\n\", \" \")\n",
    "#         print(chunk.iloc[index][\"Body\"])\n",
    "#         break\n",
    "# data1.to_csv(\"aaa.csv\",encoding='utf-8')\n",
    "# data1 = pd.read_csv(\"aaa.csv\")\n",
    "# data1.replace('\\n','')\n",
    "# data1.to_csv(\"bbb.csv\")\n",
    "print(\"finish\")\n",
    "df = spark.read.csv(\"aaa.csv\",header=True);\n",
    "print(df.take(3))"
   ]
  },
  {
   "cell_type": "code",
   "execution_count": 2,
   "metadata": {
    "collapsed": true
   },
   "outputs": [],
   "source": [
    "sc = SparkContext.getOrCreate()"
   ]
  },
  {
   "cell_type": "code",
   "execution_count": 29,
   "metadata": {},
   "outputs": [
    {
     "name": "stdout",
     "output_type": "stream",
     "text": [
      "finished\n"
     ]
    }
   ],
   "source": [
    "questionFile=sc.textFile(\"Questions.csv\")\n",
    "answerFile=sc.textFile(\"Answers.csv\")\n",
    "tagFile = sc.textFile(\"Tags.csv\")\n",
    "stopWordsFile = sc.textFile(\"stopwords.txt\")\n",
    "print(\"finished\")"
   ]
  },
  {
   "cell_type": "code",
   "execution_count": 30,
   "metadata": {},
   "outputs": [
    {
     "name": "stdout",
     "output_type": "stream",
     "text": [
      "[['90', '58.0', '2008-08-01T14:41:24Z', '2012-12-26T03:45:49Z', '144', 'Good branching and merging tutorials for TortoiseSVN?', '\"<p>Are there any really good tutorials explaining <a href=\"\"http://svnbook.red-bean.com/en/1.8/svn.branchmerge.html\"\" rel=\"\"nofollow\"\">branching and merging</a> with Apache Subversion? </p>  <p>All the better if it\\'s specific to TortoiseSVN client.</p> \"'], ['120', '83.0', '2008-08-01T15:50:08Z', '', '21', 'ASP.NET Site Maps', \"<p>Has anyone got experience creating <strong>SQL-based ASP.NET</strong> site-map providers?</p>  <p>I've got the default XML file <code>web.sitemap</code> working properly with my Menu and <strong>SiteMapPath</strong> controls; but I'll need a way for the users of my site to create and modify pages dynamically.</p>  <p>I need to tie page viewing permissions into the standard <code>ASP.NET</code> membership system as well.</p> \"]]\n"
     ]
    }
   ],
   "source": [
    "questionWithHeader = questionFile.map(lambda line: line.split(\",\")).filter(lambda line: len(line)>1)\n",
    "header = questionWithHeader.first() #extract header\n",
    "question = questionWithHeader.filter(lambda x: x != header)\n",
    "print(question.take(2))"
   ]
  },
  {
   "cell_type": "code",
   "execution_count": 31,
   "metadata": {
    "collapsed": true
   },
   "outputs": [],
   "source": [
    "stopWordsList = stopWordsFile.collect()\n"
   ]
  },
  {
   "cell_type": "code",
   "execution_count": 139,
   "metadata": {},
   "outputs": [
    {
     "name": "stdout",
     "output_type": "stream",
     "text": [
      "[('80', 'sqlstatement.execute() - multiple queries in one statement\"<p>i\\'ve written a database generation script in <a href=\"\"http://en.wikipedia.org/wiki/sql\"\">sql</a> and want to execute it in my <a href=\"\"http://en.wikipedia.org/wiki/adobe_integrated_runtime\"\">adobe air</a> application:</p>  <pre><code>create table trole (       roleid integer primary key       ;rolename varchar(40) ); create table tfile (     fileid integer primary key     ;filename varchar(50)     ;filedescription varchar(500)     ;thumbnailid integer     ;fileformatid integer     ;categoryid integer     ;isfavorite boolean     ;dateadded date     ;globalaccesscount integer     ;lastaccesstime date     ;downloadcomplete boolean     ;isnew boolean     ;isspotlight boolean     ;duration varchar(30) ); create table tcategory (     categoryid integer primary key     ;categoryname varchar(50)     ;parent_categoryid integer ); ... </code></pre>  <p>i execute this in adobe air using the following methods:</p>  <pre><code>public static function runsqlfromfile(filename:string):void {     var file:file = file.applicationdirectory.resolvepath(filename);     var stream:filestream = new filestream();     stream.open(file; filemode.read)     var strsql:string = stream.readutfbytes(stream.bytesavailable);     nonquery(strsql); }  public static function nonquery(strsql:string):void {     var sqlconnection:sqlconnection = new sqlconnection();     sqlconnection.open(file.applicationstoragedirectory.resolvepath(dbpath);     var sqlstatement:sqlstatement = new sqlstatement();     sqlstatement.text = strsql;     sqlstatement.sqlconnection = sqlconnection;     try     {         sqlstatement.execute();     }     catch (error:sqlerror)     {         alert.show(error.tostring());     } } </code></pre>  <p>no errors are generated; however only <code>trole</code> exists. it seems that it only looks at the first query (up to the semicolon- if i remove it; the query fails). is there a way to call multiple queries in one statement?</p> \"'), ('90', 'good branching and merging tutorials for tortoisesvn?\"<p>are there any really good tutorials explaining <a href=\"\"http://svnbook.red-bean.com/en/1.8/svn.branchmerge.html\"\" rel=\"\"nofollow\"\">branching and merging</a> with apache subversion? </p>  <p>all the better if it\\'s specific to tortoisesvn client.</p> \"')]\n"
     ]
    }
   ],
   "source": [
    "questionLower = question.map(lambda x: (x[0], (x[5]+x[6]).lower()))\n",
    "print(questionLower.take(2))"
   ]
  },
  {
   "cell_type": "code",
   "execution_count": 35,
   "metadata": {},
   "outputs": [
    {
     "name": "stdout",
     "output_type": "stream",
     "text": [
      "[('90', 'good branching and merging tutorials for tortoisesvn p are there any really good tutorials explaining a href http svnbook red bean com en svn branchmerge html rel nofollow branching and merging a with apache subversion p p all the better if it s specific to tortoisesvn client p '), ('120', 'asp net site maps p has anyone got experience creating strong sql based asp net strong site map providers p p i ve got the default xml file code web sitemap code working properly with my menu and strong sitemappath strong controls but i ll need a way for the users of my site to create and modify pages dynamically p p i need to tie page viewing permissions into the standard code asp net code membership system as well p ')]\n"
     ]
    }
   ],
   "source": [
    "def f(x): return re.sub('[^a-zA-Z]+', ' ', x)\n",
    "questionLower = questionLower.mapValues(f)\n",
    "print(questionLower.take(2))"
   ]
  },
  {
   "cell_type": "code",
   "execution_count": 38,
   "metadata": {},
   "outputs": [
    {
     "name": "stdout",
     "output_type": "stream",
     "text": [
      "[('90', 'good'), ('90', 'branching'), ('90', 'and'), ('90', 'merging'), ('90', 'tutorials'), ('90', 'for'), ('90', 'tortoisesvn'), ('90', 'p'), ('90', 'are'), ('90', 'there')]\n"
     ]
    }
   ],
   "source": [
    "def f2(x): return x.split(\" \")\n",
    "questionPairRaw = questionLower.flatMapValues(f2)\n",
    "print(questionPairRaw.take(10))"
   ]
  },
  {
   "cell_type": "code",
   "execution_count": 140,
   "metadata": {},
   "outputs": [
    {
     "name": "stdout",
     "output_type": "stream",
     "text": [
      "[('80', 'sqlstatement'), ('80', 'multiple'), ('80', 'queries'), ('80', 'statement'), ('80', 've'), ('80', 'written'), ('80', 'database'), ('80', 'generation'), ('80', 'script'), ('80', 'href')]\n"
     ]
    }
   ],
   "source": [
    "questionPair=questionPairRaw.filter(lambda x: x[1] not in stopWordsList)\n",
    "print(questionPair.take(10))"
   ]
  },
  {
   "cell_type": "code",
   "execution_count": 41,
   "metadata": {},
   "outputs": [
    {
     "name": "stdout",
     "output_type": "stream",
     "text": [
      "[('90', 'good'), ('90', 'branching'), ('90', 'merging'), ('90', 'tutorials'), ('90', 'tortoisesvn'), ('90', 'good'), ('90', 'tutorials'), ('90', 'explaining'), ('90', 'href'), ('90', 'http')]\n"
     ]
    }
   ],
   "source": [
    "questionPairfilter=questionPair.filter(lambda x:x[1]!=\"\")\n",
    "print(questionPairfilter.take(10))"
   ]
  },
  {
   "cell_type": "code",
   "execution_count": 44,
   "metadata": {},
   "outputs": [
    {
     "name": "stdout",
     "output_type": "stream",
     "text": [
      "[('90@good', 2), ('90@branching', 2), ('90@merging', 2), ('90@http', 1), ('90@svnbook', 1), ('90@red', 1), ('90@bean', 1), ('90@en', 1), ('90@svn', 1), ('90@branchmerge', 1)]\n"
     ]
    }
   ],
   "source": [
    "questionPairStage1 = questionPairfilter.map(lambda x:(x[0]+\"@\"+x[1],1)).reduceByKey(add)\n",
    "print(questionPairStage1.take(10))"
   ]
  },
  {
   "cell_type": "code",
   "execution_count": 45,
   "metadata": {},
   "outputs": [
    {
     "name": "stdout",
     "output_type": "stream",
     "text": [
      "[('90@good', 2), ('90@branching', 2), ('90@merging', 2), ('90@http', 1), ('90@svnbook', 1)]\n"
     ]
    }
   ],
   "source": [
    "print(questionPairStage1.take(5))"
   ]
  },
  {
   "cell_type": "code",
   "execution_count": 153,
   "metadata": {},
   "outputs": [
    {
     "name": "stdout",
     "output_type": "stream",
     "text": [
      "7\n"
     ]
    }
   ],
   "source": [
    "N = len(questionPair.countByKey())\n",
    "print(N)"
   ]
  },
  {
   "cell_type": "code",
   "execution_count": 154,
   "metadata": {},
   "outputs": [
    {
     "name": "stdout",
     "output_type": "stream",
     "text": [
      "[('90@good', 2), ('90@branching', 2), ('90@merging', 2), ('90@http', 1), ('90@svnbook', 1)]\n"
     ]
    }
   ],
   "source": [
    "print(questionPairStage1.take(5))"
   ]
  },
  {
   "cell_type": "code",
   "execution_count": 155,
   "metadata": {},
   "outputs": [
    {
     "name": "stdout",
     "output_type": "stream",
     "text": [
      "[('good', '90=2'), ('branching', '90=2'), ('merging', '90=2'), ('http', '90=1'), ('svnbook', '90=1')]\n"
     ]
    }
   ],
   "source": [
    "questionPairStage2MapPhase = questionPairStage1.map(lambda x:(x[0].split(\"@\")[1],x[0].split(\"@\")[0]+\"=\"+str(x[1])))\n",
    "print(questionPairStage2MapPhase.take(5))"
   ]
  },
  {
   "cell_type": "code",
   "execution_count": 156,
   "metadata": {},
   "outputs": [
    {
     "name": "stdout",
     "output_type": "stream",
     "text": [
      "finish\n"
     ]
    }
   ],
   "source": [
    "stage2Map = questionPairStage2MapPhase.countByKey()\n",
    "print(\"finish\")"
   ]
  },
  {
   "cell_type": "code",
   "execution_count": 157,
   "metadata": {},
   "outputs": [
    {
     "name": "stdout",
     "output_type": "stream",
     "text": [
      "None\n"
     ]
    }
   ],
   "source": [
    "print(stage2Map.get('statement'))"
   ]
  },
  {
   "cell_type": "code",
   "execution_count": 158,
   "metadata": {},
   "outputs": [
    {
     "name": "stdout",
     "output_type": "stream",
     "text": [
      "[('good@90', 2.1211120880178402), ('branching@90', 3.2947122824959867), ('merging@90', 3.2947122824959867), ('http@90', 1.252762968495368), ('svnbook@90', 1.9459101490553132)]\n"
     ]
    }
   ],
   "source": [
    "questionPairStage2 = questionPairStage2MapPhase.map(lambda x:(x[0]+\"@\"+x[1].split(\"=\")[0],(1+np.log(int(x[1].split(\"=\")[1])))*np.log(N/stage2Map.get(x[0]))))\n",
    "print(questionPairStage2.take(5))"
   ]
  },
  {
   "cell_type": "code",
   "execution_count": 159,
   "metadata": {},
   "outputs": [
    {
     "name": "stdout",
     "output_type": "stream",
     "text": [
      "[('90', 'good=2.1211120880178402'), ('90', 'branching=3.2947122824959867'), ('90', 'merging=3.2947122824959867'), ('90', 'http=1.252762968495368'), ('90', 'svnbook=1.9459101490553132')]\n"
     ]
    }
   ],
   "source": [
    "questionPairStage3MapPhase = questionPairStage2.map(lambda x:(x[0].split(\"@\")[1],x[0].split(\"@\")[0]+\"=\"+str(x[1])))\n",
    "print(questionPairStage3MapPhase.take(5))"
   ]
  },
  {
   "cell_type": "code",
   "execution_count": 160,
   "metadata": {},
   "outputs": [
    {
     "name": "stdout",
     "output_type": "stream",
     "text": [
      "[('180', 47.723071638474686), ('330', 254.08020392404381), ('470', 99.02189599792834), ('90', 103.42265481514247), ('120', 158.1646965191352)]\n"
     ]
    }
   ],
   "source": [
    "def f3_1(a,b): return float(a)+float(b.split(\"=\")[1])*float(b.split(\"=\")[1])\n",
    "def f3_2(a,b): return float(a)+float(b)\n",
    "questionPairStage3AggByKey = questionPairStage3MapPhase.aggregateByKey(0.0,f3_1,f3_2)\n",
    "print(questionPairStage3AggByKey.take(5))"
   ]
  },
  {
   "cell_type": "code",
   "execution_count": 161,
   "metadata": {},
   "outputs": [
    {
     "name": "stdout",
     "output_type": "stream",
     "text": [
      "[103.42265481514247]\n"
     ]
    }
   ],
   "source": [
    "print(questionPairStage3AggByKey.lookup('90'))"
   ]
  },
  {
   "cell_type": "code",
   "execution_count": 162,
   "metadata": {},
   "outputs": [
    {
     "name": "stdout",
     "output_type": "stream",
     "text": [
      "[10.169692955794805]\n"
     ]
    }
   ],
   "source": [
    "questionPairStage3AggByKeysqr = questionPairStage3AggByKey.map(lambda x:(x[0],np.sqrt(x[1])))\n",
    "print(questionPairStage3AggByKeysqr.lookup('90'))"
   ]
  },
  {
   "cell_type": "code",
   "execution_count": 163,
   "metadata": {},
   "outputs": [
    {
     "name": "stdout",
     "output_type": "stream",
     "text": [
      "10.169692955794805\n"
     ]
    }
   ],
   "source": [
    "stage3Map = questionPairStage3AggByKeysqr.collectAsMap()\n",
    "print(stage3Map.get('90'))"
   ]
  },
  {
   "cell_type": "code",
   "execution_count": 89,
   "metadata": {},
   "outputs": [
    {
     "name": "stdout",
     "output_type": "stream",
     "text": [
      "[('90', 'good=0.2704304029025912'), ('90', 'branching=0.310874638538734'), ('90', 'merging=0.310874638538734'), ('90', 'http=0.15972055235809823'), ('90', 'svnbook=0.18360756944704817'), ('90', 'red=0.18360756944704817'), ('90', 'bean=0.18360756944704817'), ('90', 'en=0.15972055235809823'), ('90', 'svn=0.18360756944704817'), ('90', 'branchmerge=0.18360756944704817'), ('90', 'html=0.18360756944704817'), ('90', 'rel=0.18360756944704817'), ('90', 'nofollow=0.18360756944704817'), ('90', 'apache=0.18360756944704817'), ('90', 'better=0.18360756944704817'), ('90', 'client=0.15972055235809823'), ('120', 'asp=0.3014508178375114'), ('120', 'net=0.23929142028143402'), ('120', 'maps=0.14364292988526622'), ('120', 'experience=0.14364292988526622'), ('120', 'creating=0.12495524107586918'), ('120', 'strong=0.3427743135999506'), ('120', 'providers=0.14364292988526622'), ('120', 've=0.11402364389722552'), ('120', 'file=0.12495524107586918'), ('120', 'sitemap=0.14364292988526622'), ('120', 'properly=0.14364292988526622'), ('120', 'menu=0.14364292988526622'), ('120', 'controls=0.14364292988526622'), ('120', 'll=0.12495524107586918'), ('120', 'users=0.14364292988526622'), ('120', 'create=0.14364292988526622'), ('120', 'modify=0.14364292988526622'), ('120', 'viewing=0.14364292988526622'), ('120', 'system=0.14364292988526622'), ('180', 'function=0.2130345994313199'), ('180', 'creating=0.2130345994313199'), ('180', 'color=0.24489500212855317'), ('180', 'wheels=0.24489500212855317'), ('180', 'times=0.24489500212855317'), ('180', 'solution=0.2130345994313199'), ('180', 'code=0.4078593184959892'), ('180', 'colors=0.24489500212855317'), ('260', 'scripting=0.09811008837606267'), ('260', 'functionality=0.09811008837606267'), ('260', 'game=0.2341195506607725'), ('260', 'database=0.2058950371083194'), ('260', 'http=0.0853461409816538'), ('260', 'wikipedia=0.09811008837606267'), ('260', 'org=0.09811008837606267'), ('260', 'wiki=0.09811008837606267'), ('260', 'collectible=0.09811008837606267'), ('260', 'card=0.30212428180312734'), ('260', 'implement=0.09811008837606267'), ('260', 'function=0.14450357797475874'), ('260', 'cards=0.2058950371083194'), ('260', 'script=0.16611481951841758'), ('260', 'essentially=0.16611481951841758'), ('260', 'interface=0.0853461409816538'), ('260', 'icard=0.2058950371083194'), ('260', 'implements=0.09811008837606267'), ('260', 'thing=0.09811008837606267'), ('260', 'source=0.16611481951841758'), ('260', 'compile=0.09811008837606267'), ('260', 'll=0.0853461409816538'), ('260', 'application=0.09811008837606267'), ('260', 'refresh=0.09811008837606267'), ('260', 'assembly=0.16611481951841758'), ('260', 'talking=0.09811008837606267'), ('260', 'file=0.0853461409816538'), ('260', 'instantiate=0.09811008837606267'), ('260', 'current=0.16611481951841758'), ('260', 'onenterplay=0.09811008837606267'), ('260', 'language=0.16611481951841758'), ('260', 'write=0.09811008837606267'), ('330', 'nested=0.24160011508480073'), ('330', 'classes=0.339144221581276'), ('330', 'case=0.11512374934111003'), ('330', 'collection=0.11512374934111003'), ('330', 'recording=0.11512374934111003'), ('330', 'class=0.1695625186463347'), ('330', 'acts=0.11512374934111003'), ('330', 'interface=0.1695625186463347'), ('330', 'code=0.24742486474660874'), ('330', 'play=0.11512374934111003'), ('330', 'pause=0.11512374934111003'), ('330', 'record=0.11512374934111003'), ('330', 'encoding=0.11512374934111003'), ('330', 'programmers=0.19492145161239033'), ('330', 'wary=0.11512374934111003'), ('330', 'benefits=0.11512374934111003'), ('330', 'drawbacks=0.11512374934111003'), ('330', 'cases=0.11512374934111003'), ('330', 'scenario=0.11512374934111003'), ('330', 'good=0.1001463550205117'), ('330', 'solution=0.1001463550205117'), ('330', 'inside=0.11512374934111003'), ('330', 'files=0.11512374934111003'), ('330', 'client=0.1001463550205117'), ('330', 'meant=0.11512374934111003'), ('330', 'avoid=0.11512374934111003'), ('330', 'justifications=0.11512374934111003'), ('330', 'concept=0.11512374934111003'), ('330', 'issue=0.11512374934111003'), ('470', 'homegrown=0.3065640145859369'), ('470', 'web=0.33054370935181565'), ('470', 'writing=0.18106164550003992'), ('470', 'consume=0.18106164550003992'), ('470', 'examples=0.18106164550003992'), ('470', 'code=0.12636677881704209'), ('470', 'consuming=0.18106164550003992'), ('470', 'generated=0.18106164550003992'), ('470', 'advantage=0.18106164550003992'), ('90', 'tutorials=0.310874638538734'), ('90', 'tortoisesvn=0.310874638538734'), ('90', 'explaining=0.18360756944704817'), ('90', 'href=0.15972055235809823'), ('90', 'subversion=0.18360756944704817'), ('90', 'specific=0.18360756944704817'), ('120', 'site=0.3014508178375114'), ('120', 'sql=0.14364292988526622'), ('120', 'based=0.14364292988526622'), ('120', 'map=0.14364292988526622'), ('120', 'default=0.14364292988526622'), ('120', 'xml=0.14364292988526622'), ('120', 'code=0.23922949419367132'), ('120', 'web=0.12495524107586918'), ('120', 'working=0.12495524107586918'), ('120', 'sitemappath=0.14364292988526622'), ('120', 'dynamically=0.14364292988526622'), ('120', 'tie=0.14364292988526622'), ('120', 'permissions=0.14364292988526622'), ('120', 'standard=0.14364292988526622'), ('120', 'membership=0.14364292988526622'), ('120', 'well=0.14364292988526622'), ('180', 've=0.19439745859556323'), ('180', 'pseudo=0.24489500212855317'), ('180', 'solved=0.24489500212855317'), ('180', 'stuck=0.24489500212855317'), ('180', 'problem=0.24489500212855317'), ('180', 'generate=0.24489500212855317'), ('180', 'distinguishable=0.24489500212855317'), ('180', 'parameter=0.24489500212855317'), ('260', 'adding=0.0853461409816538'), ('260', 'net=0.1318618120776911'), ('260', 'applications=0.09811008837606267'), ('260', 'written=0.09811008837606267'), ('260', 'href=0.0853461409816538'), ('260', 'en=0.0853461409816538'), ('260', 'trading=0.09811008837606267'), ('260', 'wanted=0.09811008837606267'), ('260', 'code=0.20171566008617148'), ('260', 'class=0.20366101496786368'), ('260', 'public=0.0853461409816538'), ('260', 'called=0.09811008837606267'), ('260', 'maintainable=0.09811008837606267'), ('260', 'moddable=0.09811008837606267'), ('260', 'add=0.16611481951841758'), ('260', 'change=0.09811008837606267'), ('260', 'needing=0.09811008837606267'), ('260', 'deployment=0.09811008837606267'), ('260', 'hundreds=0.09811008837606267'), ('260', 'assemblies=0.09811008837606267'), ('260', 'register=0.09811008837606267'), ('260', 'pre=0.16611481951841758'), ('260', 'mygame=0.09811008837606267'), ('260', 'cardlibrary=0.09811008837606267'), ('260', 'currentgamestate=0.09811008837606267'), ('260', 'extra=0.09811008837606267'), ('260', 'bonus=0.09811008837606267'), ('330', 'working=0.1001463550205117'), ('330', 'video=0.24160011508480073'), ('330', 'playback=0.11512374934111003'), ('330', 'main=0.11512374934111003'), ('330', 'public=0.1001463550205117'), ('330', 'methods=0.1001463550205117'), ('330', 'workhorse=0.19492145161239033'), ('330', 'decoding=0.11512374934111003'), ('330', 'learned=0.11512374934111003'), ('330', 'existence=0.11512374934111003'), ('330', 'curious=0.11512374934111003'), ('330', 'book=0.19492145161239033'), ('330', 'reading=0.11512374934111003'), ('330', 'mine=0.19492145161239033'), ('330', 'suggests=0.11512374934111003'), ('330', 'nest=0.11512374934111003'), ('330', 'separate=0.11512374934111003'), ('330', 'naming=0.11512374934111003'), ('330', 'conflicts=0.11512374934111003'), ('330', 'don=0.11512374934111003'), ('470', 'consumption=0.18106164550003992'), ('470', 'services=0.3065640145859369'), ('470', 've=0.2433502718078169'), ('470', 'net=0.14372659069564045'), ('470', 'app=0.18106164550003992'), ('470', 'ready=0.18106164550003992'), ('470', 'numerous=0.18106164550003992'), ('470', 'service=0.18106164550003992'), ('470', 'opposed=0.18106164550003992'), ('470', 'auto=0.18106164550003992'), ('470', 'methods=0.15750584857272332'), ('470', 'visual=0.18106164550003992'), ('470', 'studio=0.18106164550003992'), ('470', 'creates=0.18106164550003992'), ('470', 'adding=0.15750584857272332'), ('470', 'reference=0.18106164550003992')]\n"
     ]
    }
   ],
   "source": [
    "questionPairStage3 = questionPairStage3MapPhase.map(lambda x:(x[0],x[1].split(\"=\")[0]+\"=\"+str(float(x[1].split(\"=\")[1])/stage3Map.get(x[0]))))\n",
    "print(questionPairStage3.take(500))"
   ]
  },
  {
   "cell_type": "code",
   "execution_count": 164,
   "metadata": {},
   "outputs": [
    {
     "name": "stdout",
     "output_type": "stream",
     "text": [
      "[('180', ['color=0.2816816712576253', 'wheels=0.2816816712576253', 'times=0.2816816712576253', 'colors=0.2816816712576253', 'pseudo=0.2816816712576253', 'solved=0.2816816712576253', 'stuck=0.2816816712576253']), ('330', ['classes=0.35963078843880864', 'video=0.25619436907914805', 'workhorse=0.20669600384213413', 'book=0.20669600384213413', 'mine=0.20669600384213413', 'play=0.12207798956602055', 'pause=0.12207798956602055']), ('470', ['homegrown=0.33109443109656533', 'services=0.33109443109656533', 'writing=0.1955497046553674', 'consume=0.1955497046553674', 'examples=0.1955497046553674', 'consuming=0.1955497046553674', 'generated=0.1955497046553674']), ('90', ['branching=0.3239736240629195', 'merging=0.3239736240629195', 'tutorials=0.3239736240629195', 'tortoisesvn=0.3239736240629195', 'bean=0.1913440413111501', 'svn=0.1913440413111501', 'branchmerge=0.1913440413111501']), ('120', ['strong=0.36922578455308835', 'site=0.32471340559703277', 'experience=0.1547276775945656', 'providers=0.1547276775945656', 'sitemap=0.1547276775945656', 'properly=0.1547276775945656', 'menu=0.1547276775945656'])]\n"
     ]
    }
   ],
   "source": [
    "num_keywords = 7\n",
    "def f4_1(a,b):\n",
    "    c=[]\n",
    "    for i in range(num_keywords):\n",
    "        if float(b.split(\"=\")[1])>float(a[i].split(\"=\")[1]):\n",
    "            a[i]=b\n",
    "            break\n",
    "    return a\n",
    "def f4_2(a,b):\n",
    "    for i in range(num_keywords): #b\n",
    "        for j in range(num_keywords): #a\n",
    "            if float(b[i].split(\"=\")[1])>float(a[j].split(\"=\")[1]):\n",
    "                a[j] = b[i]\n",
    "                break\n",
    "    return a\n",
    "questionPairStage4 = questionPairStage3.aggregateByKey([\"a=0\",\"b=0\",\"c=0\",\"d=0\",\"e=0\",\"f=0\",\"g=0\"],f4_1,f4_2)\n",
    "print(questionPairStage4.take(5))"
   ]
  },
  {
   "cell_type": "code",
   "execution_count": 165,
   "metadata": {},
   "outputs": [
    {
     "name": "stdout",
     "output_type": "stream",
     "text": [
      "{'180': ['color=0.2816816712576253', 'wheels=0.2816816712576253', 'times=0.2816816712576253', 'colors=0.2816816712576253', 'pseudo=0.2816816712576253', 'solved=0.2816816712576253', 'stuck=0.2816816712576253'], '330': ['classes=0.35963078843880864', 'video=0.25619436907914805', 'workhorse=0.20669600384213413', 'book=0.20669600384213413', 'mine=0.20669600384213413', 'play=0.12207798956602055', 'pause=0.12207798956602055'], '470': ['homegrown=0.33109443109656533', 'services=0.33109443109656533', 'writing=0.1955497046553674', 'consume=0.1955497046553674', 'examples=0.1955497046553674', 'consuming=0.1955497046553674', 'generated=0.1955497046553674'], '90': ['branching=0.3239736240629195', 'merging=0.3239736240629195', 'tutorials=0.3239736240629195', 'tortoisesvn=0.3239736240629195', 'bean=0.1913440413111501', 'svn=0.1913440413111501', 'branchmerge=0.1913440413111501'], '120': ['strong=0.36922578455308835', 'site=0.32471340559703277', 'experience=0.1547276775945656', 'providers=0.1547276775945656', 'sitemap=0.1547276775945656', 'properly=0.1547276775945656', 'menu=0.1547276775945656'], '260': ['card=0.31933876830507607', 'database=0.21762655804389588', 'cards=0.21762655804389588', 'icard=0.21762655804389588', 'essentially=0.17557973674157817', 'source=0.17557973674157817', 'assembly=0.17557973674157817']}\n"
     ]
    }
   ],
   "source": [
    "outMap=questionPairStage4.collectAsMap()\n",
    "print(outMap)"
   ]
  },
  {
   "cell_type": "code",
   "execution_count": 166,
   "metadata": {},
   "outputs": [
    {
     "name": "stdout",
     "output_type": "stream",
     "text": [
      "[['80', 'flex'], ['80', 'actionscript-3']]\n"
     ]
    }
   ],
   "source": [
    "tagWithHeader = tagFile.map(lambda line: line.split(\",\")).filter(lambda line: len(line)>1)\n",
    "header = tagWithHeader.first() #extract header\n",
    "tag = tagWithHeader.filter(lambda x: x != header)\n",
    "print(tag.take(2))"
   ]
  },
  {
   "cell_type": "code",
   "execution_count": 167,
   "metadata": {},
   "outputs": [
    {
     "name": "stdout",
     "output_type": "stream",
     "text": [
      "[('80', 'flex'), ('80', 'actionscript-3')]\n"
     ]
    }
   ],
   "source": [
    "tagLower = tag.map(lambda x: (x[0], x[1].lower()))\n",
    "print(tagLower.take(2))"
   ]
  },
  {
   "cell_type": "code",
   "execution_count": 168,
   "metadata": {},
   "outputs": [
    {
     "name": "stdout",
     "output_type": "stream",
     "text": [
      "[('80', 'flex'), ('80', 'actionscript')]\n"
     ]
    }
   ],
   "source": [
    "def f0(x): return re.sub('[^a-zA-Z]+', '', x)\n",
    "tagLower = tagLower.mapValues(f0)\n",
    "print(tagLower.take(2))"
   ]
  },
  {
   "cell_type": "code",
   "execution_count": 169,
   "metadata": {},
   "outputs": [
    {
     "name": "stdout",
     "output_type": "stream",
     "text": [
      "[('80', 'flex=1000'), ('80', 'actionscript=1000')]\n"
     ]
    }
   ],
   "source": [
    "tag_1000 = tagLower.map(lambda x: (x[0], x[1]+\"=1000\"))\n",
    "print(tag_1000.take(2))"
   ]
  },
  {
   "cell_type": "code",
   "execution_count": 170,
   "metadata": {},
   "outputs": [
    {
     "name": "stdout",
     "output_type": "stream",
     "text": [
      "[('180', 'color=0.2816816712576253:wheels=0.2816816712576253:times=0.2816816712576253:colors=0.2816816712576253:pseudo=0.2816816712576253:solved=0.2816816712576253:stuck=0.2816816712576253'), ('330', 'classes=0.35963078843880864:video=0.25619436907914805:workhorse=0.20669600384213413:book=0.20669600384213413:mine=0.20669600384213413:play=0.12207798956602055:pause=0.12207798956602055'), ('470', 'homegrown=0.33109443109656533:services=0.33109443109656533:writing=0.1955497046553674:consume=0.1955497046553674:examples=0.1955497046553674:consuming=0.1955497046553674:generated=0.1955497046553674'), ('90', 'branching=0.3239736240629195:merging=0.3239736240629195:tutorials=0.3239736240629195:tortoisesvn=0.3239736240629195:bean=0.1913440413111501:svn=0.1913440413111501:branchmerge=0.1913440413111501'), ('120', 'strong=0.36922578455308835:site=0.32471340559703277:experience=0.1547276775945656:providers=0.1547276775945656:sitemap=0.1547276775945656:properly=0.1547276775945656:menu=0.1547276775945656')]\n"
     ]
    }
   ],
   "source": [
    "questionPairStage5=questionPairStage4.map(lambda x:(x[0],x[1][0]+\":\"+x[1][1]+\":\"+x[1][2]+\":\"+x[1][3]+\":\"+x[1][4]+\":\"+x[1][5]+\":\"+x[1][6]) )\n",
    "print(questionPairStage5.take(5))"
   ]
  },
  {
   "cell_type": "code",
   "execution_count": 171,
   "metadata": {},
   "outputs": [
    {
     "name": "stdout",
     "output_type": "stream",
     "text": [
      "[('180', 'color=0.2816816712576253:wheels=0.2816816712576253:times=0.2816816712576253:colors=0.2816816712576253:pseudo=0.2816816712576253:solved=0.2816816712576253:stuck=0.2816816712576253:algorithm=1000:languageagnostic=1000:colors=1000:colorspace=1000')]\n"
     ]
    }
   ],
   "source": [
    "questionPairStage6=questionPairStage5.union(tag_1000)\n",
    "def f6_1(a,b):\n",
    "    return a+\":\"+b\n",
    "def f6_2(a,b):\n",
    "    return a+b\n",
    "questionPairStage6=questionPairStage6.aggregateByKey(\"\",f6_1,f6_2).map(lambda x: (x[0], x[1][1:]))\n",
    "print(questionPairStage6.take(1))"
   ]
  },
  {
   "cell_type": "code",
   "execution_count": 172,
   "metadata": {},
   "outputs": [
    {
     "name": "stdout",
     "output_type": "stream",
     "text": [
      "[('180', 'algorithm=1000:languageagnostic=1000:colors=1000:colorspace=1000:color=0.2816816712576253:wheels=0.2816816712576253:times=0.2816816712576253'), ('330', 'c=1000:oop=1000:class=1000:nestedclass=1000:classes=0.35963078843880864:video=0.25619436907914805:workhorse=0.20669600384213413')]\n"
     ]
    }
   ],
   "source": [
    "def f7(x):\n",
    "    listx= x[1].split(\":\")\n",
    "    listx.sort(key=lambda item:float(item.split(\"=\")[1]),reverse=True)\n",
    "    output=\"\"\n",
    "    for i in range(num_keywords):\n",
    "        output+=\":\"+listx[i]\n",
    "    return (x[0],output)\n",
    "questionPairStage7=questionPairStage6.map(f7).map(lambda x: (x[0], x[1][1:]))\n",
    "print(questionPairStage7.take(2))"
   ]
  },
  {
   "cell_type": "code",
   "execution_count": null,
   "metadata": {
    "collapsed": true
   },
   "outputs": [],
   "source": []
  }
 ],
 "metadata": {
  "kernelspec": {
   "display_name": "Python 3",
   "language": "python",
   "name": "python3"
  },
  "language_info": {
   "codemirror_mode": {
    "name": "ipython",
    "version": 3
   },
   "file_extension": ".py",
   "mimetype": "text/x-python",
   "name": "python",
   "nbconvert_exporter": "python",
   "pygments_lexer": "ipython3",
   "version": "3.6.3"
  }
 },
 "nbformat": 4,
 "nbformat_minor": 2
}
